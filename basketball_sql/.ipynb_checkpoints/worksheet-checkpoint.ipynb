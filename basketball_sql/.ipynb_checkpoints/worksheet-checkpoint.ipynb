{
 "cells": [
  {
   "cell_type": "markdown",
   "metadata": {},
   "source": [
    "# Querying SQL databases\n",
    "\n",
    "Your task is to analyze game and player statistics from the NBA 2008-2009 season provided as a relational database of play-by-play data.\n",
    "\n",
    "You cannot use jupyter to execute the queries. To write and test the queries, use the web interface at http://vo.elte.hu/basketball/. Copy queries into the worksheet for submission."
   ]
  },
  {
   "cell_type": "markdown",
   "metadata": {},
   "source": [
    "## Excercise 1 - Simple queries\n",
    "\n",
    "a) List all teams playing in the league during the season\n",
    "\n",
    "b) List teams in alphabetic order but division by division\n",
    "\n",
    "c) Count the number of persons/players in the league"
   ]
  },
  {
   "cell_type": "code",
   "execution_count": 2,
   "metadata": {},
   "outputs": [
    {
     "data": {
      "text/plain": [
       "'\\nSELECT COUNT(person_id) FROM dbo.player\\n'"
      ]
     },
     "execution_count": 2,
     "metadata": {},
     "output_type": "execute_result"
    }
   ],
   "source": [
    "# queries\n",
    "# a: # different teams: \n",
    "'''\n",
    "SELECT DISTINCT team.name FROM dbo.team\n",
    "'''\n",
    "\n",
    "# b:\n",
    "'''\n",
    "SELECT division.name AS \"Division name\", team.name AS \"Team name\"\n",
    "from team\n",
    "INNER JOIN division on team.division_id = division.id\n",
    "\n",
    "ORDER BY division.id, team.name\n",
    "\n",
    "'''\n",
    "\n",
    "# c:\n",
    "'''\n",
    "SELECT COUNT(person_id) FROM dbo.player\n",
    "'''"
   ]
  },
  {
   "cell_type": "markdown",
   "metadata": {},
   "source": [
    "## Excercise 2 - Simple joins\n",
    "\n",
    "a) List teams by division, including the division name\n",
    "\n",
    "b) List players by team including the uniform number"
   ]
  },
  {
   "cell_type": "code",
   "execution_count": 1,
   "metadata": {},
   "outputs": [
    {
     "data": {
      "text/plain": [
       "'\\nSELECT player.team_id AS \"Team ID\",player.number AS \"Number\",player.person_id AS \"Person ID\",person.name AS \"Person name\",team.name AS \"Team name\"\\n\\nFROM player\\nINNER JOIN person ON player.number = person.id\\n\\n\\n\\nINNER JOIN team ON player.team_id = team.id\\n'"
      ]
     },
     "execution_count": 1,
     "metadata": {},
     "output_type": "execute_result"
    }
   ],
   "source": [
    "# queries\n",
    "# a:\n",
    "'''\n",
    "SELECT division.name AS \"Division name\", team.id AS \"Team id\", team.name AS \"Team name\"\n",
    "\n",
    "FROM team\n",
    "\n",
    "INNER JOIN division ON team.division_id =division.id \n",
    "'''\n",
    "# b:\n",
    "'''\n",
    "SELECT player.team_id AS \"Team ID\",player.number AS \"Number\",player.person_id AS \"Person ID\",person.name AS \"Person name\",team.name AS \"Team name\"\n",
    "\n",
    "FROM player\n",
    "INNER JOIN person ON player.number = person.id\n",
    "\n",
    "\n",
    "\n",
    "INNER JOIN team ON player.team_id = team.id\n",
    "'''"
   ]
  },
  {
   "cell_type": "markdown",
   "metadata": {},
   "source": [
    "## Excercise 3 - Simple aggregation\n",
    "\n",
    "a) Count number of persons playing for a given team\n",
    "\n",
    "b) List all teams along with the number of players\n",
    "\n",
    "c) Count the number of teams a given person played for\n",
    "\n",
    "d) List all players along with the number of teams they played for\n",
    "\n",
    "e) List players who played for more than two teams during the season"
   ]
  },
  {
   "cell_type": "code",
   "execution_count": null,
   "metadata": {
    "collapsed": true
   },
   "outputs": [],
   "source": [
    "# queries\n",
    "# a:\n",
    "'''\n",
    "SELECT player.team_id, COUNT(*) AS \"number of persons\"\n",
    "FROM player\n",
    "GROUP\n",
    "BY player.team_id\n",
    "'''\n",
    "\n",
    "# b:\n",
    "'''\n",
    "SELECT player.team_id, COUNT(*) AS number_of_persons INTO #result\n",
    "FROM player\n",
    "GROUP BY player.team_id\n",
    "\n",
    "SELECT team.id,team.name, #result.number_of_persons\n",
    "FROM team\n",
    "INNER JOIN #result ON #result.team_id = team.id\n",
    "\n",
    "\n",
    "'''\n",
    "\n",
    "# c:\n",
    "'''\n",
    "SELECT player.person_id, COUNT(*) AS played_teams INTO #result\n",
    "FROM player\n",
    "GROUP\n",
    "BY player.person_id\n",
    "\n",
    "\n",
    "SELECT person.name, #result.played_teams INTO #result2\n",
    "FROM person\n",
    "INNER JOIN #result ON #result.person_id = person.id\n",
    "\n",
    "SELECT * FROM #result2 WHERE name = 'Adam Morrison'\n",
    "\n",
    "'''\n",
    "\n",
    "# d:\n",
    "'''\n",
    "SELECT player.person_id, COUNT(*) AS played_teams INTO #result\n",
    "FROM player\n",
    "GROUP\n",
    "BY player.person_id\n",
    "\n",
    "\n",
    "SELECT person.name, #result.played_teams\n",
    "FROM person\n",
    "INNER JOIN #result ON #result.person_id = person.id\n",
    "\n",
    "'''\n",
    "\n",
    "# e:\n",
    "'''\n",
    "SELECT player.person_id, COUNT(*) AS played_teams INTO #result\n",
    "FROM player\n",
    "GROUP\n",
    "BY player.person_id\n",
    "\n",
    "\n",
    "SELECT person.name, #result.played_teams INTO #result2\n",
    "FROM person\n",
    "INNER JOIN #result ON #result.person_id = person.id\n",
    "\n",
    "SELECT * FROM #result2 WHERE played_teams > 2\n",
    "'''\n",
    "\n"
   ]
  },
  {
   "cell_type": "markdown",
   "metadata": {},
   "source": [
    "# Excercise 4 - More complex queries with set operations and common table expressions\n",
    "\n",
    "a) Pick a game and list all field shots and free throw attempts, including points\n",
    "\n",
    "b) Combine the previous two into a single table and only show successful attempts\n",
    "\n",
    "c) Take previous query and sum all points by team so that end result is available\n",
    "\n",
    "d) Remove filter on game and get end result of each game during season\n",
    "\n",
    "e) Modify the previous query to return a single line per game, with home team and away team points"
   ]
  },
  {
   "cell_type": "code",
   "execution_count": null,
   "metadata": {
    "collapsed": true
   },
   "outputs": [],
   "source": [
    "# queries\n",
    "# queries\n",
    "# a:\n",
    "'''\n",
    "SELECT * INTO #compact_game\n",
    "FROM dbo.event\n",
    "WHERE (game_id = 1\n",
    "AND (type = 'shot' OR type = 'free throw'))\n",
    "\n",
    "SELECT * INTO #point_game\n",
    "FROM dbo.point\n",
    "WHERE game_id = 1\n",
    "\n",
    "SELECT #compact_game.game_id,#compact_game.cntr,#compact_game.type,#point_game.points\n",
    "FROM #point_game\n",
    "INNER JOIN #compact_game ON #compact_game.cntr = #point_game.cntr\n",
    "\n",
    "\n",
    "\n",
    "\n",
    "'''\n",
    "\n",
    "# b:\n",
    "'''\n",
    "SELECT * INTO #compact_game\n",
    "FROM dbo.event\n",
    "WHERE (game_id = 1\n",
    "AND (type = 'shot' OR type = 'free throw'))\n",
    "\n",
    "SELECT * INTO #point_game\n",
    "FROM dbo.point\n",
    "WHERE game_id = 1\n",
    "\n",
    "SELECT #compact_game.game_id,#compact_game.cntr,#compact_game.type,#point_game.points\n",
    "FROM #point_game\n",
    "INNER JOIN #compact_game ON #compact_game.cntr = #point_game.cntr\n",
    "\n",
    "\n",
    "'''\n",
    "\n",
    "# c:\n",
    "'''\n",
    "SELECT * INTO #compact_game\n",
    "FROM dbo.event\n",
    "WHERE (game_id = 1\n",
    "AND (type = 'shot' OR type = 'free throw'))\n",
    "\n",
    "SELECT * INTO #point_game\n",
    "FROM dbo.point\n",
    "WHERE game_id = 1\n",
    "\n",
    "SELECT #compact_game.game_id,#compact_game.cntr,#compact_game.type,#point_game.points INTO #result\n",
    "FROM #point_game\n",
    "INNER JOIN #compact_game ON #compact_game.cntr = #point_game.cntr\n",
    "\n",
    "SELECT SUM(points) FROM #result\n",
    "'''\n",
    "\n",
    "# d:\n",
    "'''\n",
    "SELECT * INTO #compact_game\n",
    "FROM dbo.event\n",
    "WHERE type = 'shot' OR type = 'free throw'\n",
    "\n",
    "SELECT * INTO #point_game\n",
    "FROM dbo.point\n",
    "\n",
    "\n",
    "SELECT #compact_game.game_id,#compact_game.cntr,#compact_game.type,#point_game.points INTO #result\n",
    "FROM #point_game\n",
    "INNER JOIN #compact_game\n",
    "ON (#compact_game.game_id = #point_game.game_id)\n",
    "AND (#compact_game.cntr = #point_game.cntr)\n",
    "\n",
    "SELECT #result.game_id, COUNT(*) AS \"End_points\"\n",
    "FROM #result\n",
    "GROUP\n",
    "BY #result.game_id\n",
    "ORDER BY #result.game_id\n",
    "'''\n"
   ]
  },
  {
   "cell_type": "markdown",
   "metadata": {},
   "source": [
    "## Excercise 5 - a rather complex example\n",
    "\n",
    "a)  Print season results by division. For each team, calculate with a **single_ query**\n",
    "\n",
    "- number of games played\n",
    "- wins\n",
    "- losts\n",
    "- winning percentage\n",
    "\n",
    "Compare with https://en.wikipedia.org/wiki/2008–09_NBA_season#By_division"
   ]
  },
  {
   "cell_type": "code",
   "execution_count": null,
   "metadata": {
    "collapsed": true
   },
   "outputs": [],
   "source": [
    "# query"
   ]
  }
 ],
 "metadata": {
  "kernelspec": {
   "display_name": "Python 3",
   "language": "python",
   "name": "python3"
  },
  "language_info": {
   "codemirror_mode": {
    "name": "ipython",
    "version": 3
   },
   "file_extension": ".py",
   "mimetype": "text/x-python",
   "name": "python",
   "nbconvert_exporter": "python",
   "pygments_lexer": "ipython3",
   "version": "3.7.4"
  }
 },
 "nbformat": 4,
 "nbformat_minor": 2
}
