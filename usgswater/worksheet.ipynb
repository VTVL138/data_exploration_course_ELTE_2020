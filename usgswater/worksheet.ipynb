{
 "cells": [
  {
   "cell_type": "markdown",
   "metadata": {},
   "source": [
    "# Statistical analysis of water discharge of surface streams\n",
    "\n",
    "Large amounts of historical surface water data are available from the United States Geological Survey (USGS) at https://waterdata.usgs.gov/nwis The goal of the project is to retrieve samples from the web interface manually, and then later  automate the process by calling the web service as described at https://help.waterdata.usgs.gov/faq/automated-retrievals."
   ]
  },
  {
   "cell_type": "code",
   "execution_count": 1,
   "metadata": {},
   "outputs": [],
   "source": [
    "import pandas as pd\n",
    "import matplotlib.pyplot as plt\n",
    "import numpy as np\n",
    "from scipy.optimize import curve_fit"
   ]
  },
  {
   "cell_type": "markdown",
   "metadata": {},
   "source": [
    "## Excercise 1\n",
    "\n",
    "For the purposes of the current excercises, select a stream from a rainy area with relatively small discharge so that the effect of short but strong storms is visible. Good choices are small rivers from the north-eastern US, e.g. site 01589440. Retrieve at least 10 years of data."
   ]
  },
  {
   "cell_type": "code",
   "execution_count": 2,
   "metadata": {},
   "outputs": [
    {
     "name": "stderr",
     "output_type": "stream",
     "text": [
      "/opt/conda/lib/python3.7/site-packages/IPython/core/interactiveshell.py:3063: DtypeWarning: Columns (1,4,6) have mixed types.Specify dtype option on import or set low_memory=False.\n",
      "  interactivity=interactivity, compiler=compiler, result=result)\n"
     ]
    },
    {
     "data": {
      "text/html": [
       "<div>\n",
       "<style scoped>\n",
       "    .dataframe tbody tr th:only-of-type {\n",
       "        vertical-align: middle;\n",
       "    }\n",
       "\n",
       "    .dataframe tbody tr th {\n",
       "        vertical-align: top;\n",
       "    }\n",
       "\n",
       "    .dataframe thead th {\n",
       "        text-align: right;\n",
       "    }\n",
       "</style>\n",
       "<table border=\"1\" class=\"dataframe\">\n",
       "  <thead>\n",
       "    <tr style=\"text-align: right;\">\n",
       "      <th></th>\n",
       "      <th>agency_cd</th>\n",
       "      <th>site_no</th>\n",
       "      <th>datetime</th>\n",
       "      <th>tz_cd</th>\n",
       "      <th>Discharge</th>\n",
       "      <th>69744_00060_cd</th>\n",
       "      <th>69745_00065</th>\n",
       "      <th>69745_00065_cd</th>\n",
       "    </tr>\n",
       "  </thead>\n",
       "  <tbody>\n",
       "    <tr>\n",
       "      <th>1</th>\n",
       "      <td>USGS</td>\n",
       "      <td>01589440</td>\n",
       "      <td>2007-01-01 00:00:00</td>\n",
       "      <td>EST</td>\n",
       "      <td>18.0</td>\n",
       "      <td>A:[91]</td>\n",
       "      <td>NaN</td>\n",
       "      <td>NaN</td>\n",
       "    </tr>\n",
       "    <tr>\n",
       "      <th>2</th>\n",
       "      <td>USGS</td>\n",
       "      <td>01589440</td>\n",
       "      <td>2007-01-01 00:15:00</td>\n",
       "      <td>EST</td>\n",
       "      <td>18.0</td>\n",
       "      <td>A:[91]</td>\n",
       "      <td>NaN</td>\n",
       "      <td>NaN</td>\n",
       "    </tr>\n",
       "    <tr>\n",
       "      <th>3</th>\n",
       "      <td>USGS</td>\n",
       "      <td>01589440</td>\n",
       "      <td>2007-01-01 00:30:00</td>\n",
       "      <td>EST</td>\n",
       "      <td>18.0</td>\n",
       "      <td>A:[91]</td>\n",
       "      <td>NaN</td>\n",
       "      <td>NaN</td>\n",
       "    </tr>\n",
       "    <tr>\n",
       "      <th>4</th>\n",
       "      <td>USGS</td>\n",
       "      <td>01589440</td>\n",
       "      <td>2007-01-01 00:45:00</td>\n",
       "      <td>EST</td>\n",
       "      <td>18.0</td>\n",
       "      <td>A:[91]</td>\n",
       "      <td>NaN</td>\n",
       "      <td>NaN</td>\n",
       "    </tr>\n",
       "    <tr>\n",
       "      <th>5</th>\n",
       "      <td>USGS</td>\n",
       "      <td>01589440</td>\n",
       "      <td>2007-01-01 01:00:00</td>\n",
       "      <td>EST</td>\n",
       "      <td>18.0</td>\n",
       "      <td>A:[91]</td>\n",
       "      <td>NaN</td>\n",
       "      <td>NaN</td>\n",
       "    </tr>\n",
       "  </tbody>\n",
       "</table>\n",
       "</div>"
      ],
      "text/plain": [
       "  agency_cd   site_no            datetime tz_cd  Discharge 69744_00060_cd  \\\n",
       "1      USGS  01589440 2007-01-01 00:00:00   EST       18.0         A:[91]   \n",
       "2      USGS  01589440 2007-01-01 00:15:00   EST       18.0         A:[91]   \n",
       "3      USGS  01589440 2007-01-01 00:30:00   EST       18.0         A:[91]   \n",
       "4      USGS  01589440 2007-01-01 00:45:00   EST       18.0         A:[91]   \n",
       "5      USGS  01589440 2007-01-01 01:00:00   EST       18.0         A:[91]   \n",
       "\n",
       "  69745_00065 69745_00065_cd  \n",
       "1         NaN            NaN  \n",
       "2         NaN            NaN  \n",
       "3         NaN            NaN  \n",
       "4         NaN            NaN  \n",
       "5         NaN            NaN  "
      ]
     },
     "execution_count": 2,
     "metadata": {},
     "output_type": "execute_result"
    }
   ],
   "source": [
    "data = pd.read_csv(\"water-01589440.txt\", sep='\\t', comment='#', header=0, skiprows=[0], parse_dates=[2])\n",
    "data=data.rename(columns={'69744_00060':'Discharge'})\n",
    "data=data.drop(0)\n",
    "data=data.drop(data[data.Discharge.isna()].index)\n",
    "data.Discharge=data.Discharge.astype(float)\n",
    "data.datetime=pd.to_datetime(data.datetime)\n",
    "\n",
    "# too long time interval:\n",
    "data = data[data.datetime.apply(lambda x:x.year) < 2018]\n",
    "\n",
    "\n",
    "data.head()"
   ]
  },
  {
   "cell_type": "code",
   "execution_count": 3,
   "metadata": {
    "scrolled": true
   },
   "outputs": [],
   "source": [
    "# data = pd.read_csv(\"water-01585500.txt\", sep='\\t', comment='#', header=0, skiprows=[30], parse_dates=[2])\n",
    "# data=data.rename(columns={'69679_00060':'Discharge'})\n",
    "# data=data.dropna()\n",
    "# data.head()"
   ]
  },
  {
   "cell_type": "markdown",
   "metadata": {},
   "source": [
    "## Excercise 2\n",
    "\n",
    "Load the downloaded data file into the processing environment paying attention to handling time stamps and perfoming the necessary data type conversions. Converting dates to floating point numbers such as unix time stamp or julian date usually makes handling time series easier. Plot the data for a certain interval to show that the effect of storms is clearly visible."
   ]
  },
  {
   "cell_type": "code",
   "execution_count": 4,
   "metadata": {
    "scrolled": true
   },
   "outputs": [
    {
     "data": {
      "image/png": "[encoded data removed]",
      "text/plain": [
       "<Figure size 432x288 with 1 Axes>"
      ]
     },
     "metadata": {
      "needs_background": "light"
     },
     "output_type": "display_data"
    }
   ],
   "source": [
    "plt.plot(data.datetime,data.Discharge)\n",
    "plt.xlabel('Time')\n",
    "plt.ylabel('Discharge')\n",
    "plt.title('Discharge by time')\n",
    "# plt.yscale('log')\n",
    "plt.tight_layout()"
   ]
  },
  {
   "cell_type": "markdown",
   "metadata": {},
   "source": [
    "# Conclusion:\n",
    "\n",
    "The peaks are the stormy periods."
   ]
  },
  {
   "cell_type": "markdown",
   "metadata": {},
   "source": [
    "## Excercise 3\n",
    "\n",
    "Plot the histogram of water discharge values. Fit the data with an appropriate distribution function and bring arguments in favor of the choice of function."
   ]
  },
  {
   "cell_type": "code",
   "execution_count": 13,
   "metadata": {},
   "outputs": [],
   "source": [
    "discharges=list(data.Discharge)\n"
   ]
  },
  {
   "cell_type": "code",
   "execution_count": 14,
   "metadata": {},
   "outputs": [
    {
     "data": {
      "text/plain": [
       "Text(0, 0.5, 'Counter')"
      ]
     },
     "execution_count": 14,
     "metadata": {},
     "output_type": "execute_result"
    },
    {
     "data": {
      "image/png": "[encoded data removed]",
      "text/plain": [
       "<Figure size 432x288 with 1 Axes>"
      ]
     },
     "metadata": {
      "needs_background": "light"
     },
     "output_type": "display_data"
    }
   ],
   "source": [
    "plt.hist(discharges,bins=50,log=True)\n",
    "plt.title('Hist of discharges')\n",
    "plt.xlabel('Discharge value')\n",
    "plt.ylabel('Counter')"
   ]
  },
  {
   "cell_type": "code",
   "execution_count": 15,
   "metadata": {},
   "outputs": [
    {
     "name": "stdout",
     "output_type": "stream",
     "text": [
      "A gamma b\n",
      "[ 1.23453757e+09  2.29471494e+00 -9.36321807e-01]\n",
      "[5.38721976e+08 7.02893778e-02 3.37711147e+00]\n"
     ]
    },
    {
     "name": "stderr",
     "output_type": "stream",
     "text": [
      "/opt/conda/lib/python3.7/site-packages/ipykernel_launcher.py:8: RuntimeWarning: overflow encountered in power\n",
      "  \n"
     ]
    },
    {
     "data": {
      "text/plain": [
       "<matplotlib.legend.Legend at 0x7f6dd998c588>"
      ]
     },
     "execution_count": 15,
     "metadata": {},
     "output_type": "execute_result"
    },
    {
     "data": {
      "image/png": "[encoded data removed]",
      "text/plain": [
       "<Figure size 432x288 with 1 Axes>"
      ]
     },
     "metadata": {
      "needs_background": "light"
     },
     "output_type": "display_data"
    }
   ],
   "source": [
    "hist_d,bin_edges_d = np.histogram(discharges,bins=50)\n",
    "\n",
    "\n",
    "def f_exp(x,A,b,c):\n",
    "    return A*np.exp(-b*x)+c\n",
    "\n",
    "def f_powerlaw(x,A,gamma,B):\n",
    "    return A*x**(-gamma) + B\n",
    "p0_my=[50000,3,1]\n",
    "\n",
    "\n",
    "skip_point = 2\n",
    "tt = np.linspace(min(bin_edges_d[1:]),max(discharges),300)\n",
    "\n",
    "popt_d,pcov_d = curve_fit(f_powerlaw,bin_edges_d[skip_point+1:],hist_d[skip_point:],p0=p0_my)\n",
    "perr_d = np.sqrt(np.diag(pcov_d))\n",
    "print('A gamma b')\n",
    "print(popt_d)\n",
    "print(perr_d)\n",
    "plt.plot(tt,f_powerlaw(tt,*popt_d),'r-',label='Fit')\n",
    "plt.plot(bin_edges_d[1:],hist_d,'.',label='data')\n",
    "plt.yscale('log')\n",
    "plt.xscale('log')\n",
    "plt.title('Hist of discharge')\n",
    "plt.xlabel('Discharge')\n",
    "plt.ylabel('Counter')\n",
    "plt.legend()"
   ]
  },
  {
   "cell_type": "markdown",
   "metadata": {},
   "source": [
    "# Conclusion:\n",
    "We can see a distribution that follows a powerlaw. The greater discharge values are less likely, but there are some, more than what would come from an exponential distribution"
   ]
  },
  {
   "cell_type": "markdown",
   "metadata": {},
   "source": [
    "## Excercise 4\n",
    "\n",
    "In case of small streams, storms and passing weather fronts with rain can significantly increase water discharge on a short time scale. Develop a simple algorithm to detect rainy events in the data. Plot the original time series and mark rainy events."
   ]
  },
  {
   "cell_type": "code",
   "execution_count": 16,
   "metadata": {
    "scrolled": true
   },
   "outputs": [],
   "source": [
    "rainy_start = []\n",
    "rainy_end = []\n",
    "rainy_length = []\n",
    "def detect_rainy_events(data,crit_length = 5,crit_discharge=500):\n",
    "    '''\n",
    "    Detect those events, where the value of discharge is increasing in a row or its maximum value is greater than \n",
    "    a crit. value.\n",
    "    Return the start and end of events.\n",
    "    '''\n",
    "    start_idxs = []\n",
    "    end_idxs = []\n",
    "    lengths = []\n",
    "    for i in range(1,len(data)):\n",
    "        length = 0\n",
    "        start = i\n",
    "        while data[i]>data[i-1]:\n",
    "            length+=1\n",
    "            i+=1\n",
    "        end = i\n",
    "        if start!=end:\n",
    "            max_val = max(data[start:end])\n",
    "        else:\n",
    "            max_val = 0\n",
    "        \n",
    "        if length> crit_length or max_val > crit_discharge:\n",
    "            start_idxs.append(start)\n",
    "            end_idxs.append(end)\n",
    "            lengths.append(length)\n",
    "            \n",
    "    return start_idxs,end_idxs,lengths\n",
    "    \n",
    "    \n",
    "rainy_event_length = 20 # it's number of rainy events in a row\n",
    "rainy_start,rainy_end,rainy_length = detect_rainy_events(discharges,crit_length=rainy_event_length)\n",
    "middle_of_rainy_idx = [int(np.average([rainy_start[i],rainy_end[i]])) for i in range(len(rainy_start))]\n",
    "rainy_peak_index = []\n",
    "rainy_peak_max = []\n",
    "for i in range(len(rainy_start)):\n",
    "    rainy_peak_max.append(max(discharges[rainy_start[i]:rainy_end[i]]))\n",
    "    rainy_peak_index.append(discharges.index(max(discharges[rainy_start[i]:rainy_end[i]])))\n",
    "    "
   ]
  },
  {
   "cell_type": "code",
   "execution_count": 17,
   "metadata": {},
   "outputs": [
    {
     "data": {
      "text/plain": [
       "2016"
      ]
     },
     "execution_count": 17,
     "metadata": {},
     "output_type": "execute_result"
    }
   ],
   "source": [
    "len(rainy_end)"
   ]
  },
  {
   "cell_type": "code",
   "execution_count": 18,
   "metadata": {},
   "outputs": [
    {
     "data": {
      "text/plain": [
       "Text(0, 0.5, 'length of rainy time')"
      ]
     },
     "execution_count": 18,
     "metadata": {},
     "output_type": "execute_result"
    },
    {
     "data": {
      "image/png": "[encoded data removed]",
      "text/plain": [
       "<Figure size 432x288 with 1 Axes>"
      ]
     },
     "metadata": {
      "needs_background": "light"
     },
     "output_type": "display_data"
    }
   ],
   "source": [
    "df_rainy = data.iloc[middle_of_rainy_idx,:]\n",
    "rainy_datetime = list(df_rainy.datetime)\n",
    "\n",
    "tt = [rainy_datetime for i in middle_of_rainy_idx]\n",
    "plt.plot(data.datetime,data.Discharge,'b.',label='Data')\n",
    "\n",
    "# plt.plot(df_rainy.datetime,rainy_length,'rx',label='Rainy')\n",
    "plt.plot(df_rainy.datetime,rainy_peak_max,'rx',label='Rainy')\n",
    "\n",
    "plt.title('Intensity and middle index')\n",
    "plt.xlabel('Time of middle of event')\n",
    "plt.ylabel('length of rainy time')"
   ]
  },
  {
   "cell_type": "markdown",
   "metadata": {},
   "source": [
    "# Conclusion:\n",
    "The algorithm gives us the start and end points of the storms, where the discharge values are increasing within a certain period or the max of value in the period is higher than a certain value. <br>\n",
    "This isn't the best algorithm, but the it's based on the most impoertant quantities of a storm, its length and maximum discharge."
   ]
  },
  {
   "cell_type": "code",
   "execution_count": null,
   "metadata": {},
   "outputs": [],
   "source": []
  },
  {
   "cell_type": "markdown",
   "metadata": {},
   "source": [
    "## Excercise 5\n",
    "\n",
    "Water discharge increases significantly during rain producing maxima in the time series. Plot the distribution of maximum values and fit with an appropriate function. Bring arguments to support the choice of probabilistic model."
   ]
  },
  {
   "cell_type": "code",
   "execution_count": 26,
   "metadata": {},
   "outputs": [
    {
     "name": "stdout",
     "output_type": "stream",
     "text": [
      "A gamma b\n",
      "[ 1.82649651e+03  2.33990695e-01 -2.46689247e+02]\n",
      "[1.12030254e+03 2.04613421e-01 2.87701337e+02]\n"
     ]
    },
    {
     "name": "stderr",
     "output_type": "stream",
     "text": [
      "/opt/conda/lib/python3.7/site-packages/ipykernel_launcher.py:8: RuntimeWarning: overflow encountered in power\n",
      "  \n"
     ]
    },
    {
     "data": {
      "text/plain": [
       "<matplotlib.legend.Legend at 0x7fb96deeff28>"
      ]
     },
     "execution_count": 26,
     "metadata": {},
     "output_type": "execute_result"
    },
    {
     "data": {
      "image/png": "[encoded data removed]",
      "text/plain": [
       "<Figure size 432x288 with 1 Axes>"
      ]
     },
     "metadata": {
      "needs_background": "light"
     },
     "output_type": "display_data"
    }
   ],
   "source": [
    "hist_r,bin_edges_r = np.histogram(rainy_peak_max,bins=50)\n",
    "\n",
    "\n",
    "def f_exp(x,A,b,c):\n",
    "    return A*np.exp(-b*x)+c\n",
    "\n",
    "def f_powerlaw(x,A,gamma,B):\n",
    "    return A*x**(-gamma) + B\n",
    "p0_my=[240,1.5,1]\n",
    "\n",
    "\n",
    "skip_point = 0\n",
    "tt = np.linspace(min(bin_edges_r[1:]),max(bin_edges_r),300)\n",
    "\n",
    "popt_r,pcov_r = curve_fit(f_powerlaw,bin_edges_r[skip_point+1:],hist_r[skip_point:],p0=p0_my)\n",
    "perr_r = np.sqrt(np.diag(pcov_r))\n",
    "print('A gamma b')\n",
    "print(popt_r)\n",
    "print(perr_r)\n",
    "plt.plot(tt,f_powerlaw(tt,*popt_r),'r-',label='Fit')\n",
    "plt.plot(bin_edges_r[1:],hist_r,'.',label='data')\n",
    "plt.yscale('log')\n",
    "plt.xscale('log')\n",
    "plt.title('Hist of rainy peak max values')\n",
    "plt.xlabel('Discharge')\n",
    "plt.ylabel('Counter')\n",
    "plt.legend()"
   ]
  },
  {
   "cell_type": "markdown",
   "metadata": {},
   "source": [
    "# Conclusion:\n",
    "We can see a distribution that follows a powerlaw. The greater maximums values are less likely, but there are some, more than what would come from an exponential distribution."
   ]
  },
  {
   "cell_type": "code",
   "execution_count": null,
   "metadata": {},
   "outputs": [],
   "source": []
  },
  {
   "cell_type": "markdown",
   "metadata": {},
   "source": [
    "## Excercise 6\n",
    "\n",
    "Once rainy events are detected, plot the distribution of the length of sunny intervals between rains. Fit the distribution with an appropriate function."
   ]
  },
  {
   "cell_type": "code",
   "execution_count": 27,
   "metadata": {},
   "outputs": [],
   "source": [
    "sunny_length = [int(rainy_end[i+1]-rainy_start[i]) for i in range(len(rainy_start)-1)]\n"
   ]
  },
  {
   "cell_type": "code",
   "execution_count": 28,
   "metadata": {},
   "outputs": [
    {
     "name": "stdout",
     "output_type": "stream",
     "text": [
      "A gamma b\n",
      "[233.11710638   0.39306302  -5.69821914]\n",
      "[2.12663282e+02 1.66982270e-01 4.04865575e+00]\n"
     ]
    },
    {
     "name": "stderr",
     "output_type": "stream",
     "text": [
      "/opt/conda/lib/python3.7/site-packages/ipykernel_launcher.py:8: RuntimeWarning: overflow encountered in power\n",
      "  \n"
     ]
    },
    {
     "data": {
      "text/plain": [
       "<matplotlib.legend.Legend at 0x7fb96ddc2f98>"
      ]
     },
     "execution_count": 28,
     "metadata": {},
     "output_type": "execute_result"
    },
    {
     "data": {
      "image/png": "[encoded data removed]",
      "text/plain": [
       "<Figure size 432x288 with 1 Axes>"
      ]
     },
     "metadata": {
      "needs_background": "light"
     },
     "output_type": "display_data"
    }
   ],
   "source": [
    "hist_s,bin_edges_s = np.histogram(sunny_length,bins=50)\n",
    "\n",
    "\n",
    "def f_exp(x,A,b,c):\n",
    "    return A*np.exp(-b*x)+c\n",
    "\n",
    "def f_powerlaw(x,A,gamma,B):\n",
    "    return A*x**(-gamma) + B\n",
    "\n",
    "\n",
    "\n",
    "\n",
    "skip_point = 1\n",
    "tt = np.linspace(min(bin_edges_s[1:]),max(bin_edges_s),300)\n",
    "\n",
    "p0_my=[100,1.5,1]\n",
    "popt_s,pcov_s = curve_fit(f_powerlaw,bin_edges_s[skip_point+1:],hist_s[skip_point:],p0=p0_my)\n",
    "perr_s = np.sqrt(np.diag(pcov_s))\n",
    "print('A gamma b')\n",
    "print(popt_s)\n",
    "print(perr_s)\n",
    "plt.plot(tt,f_powerlaw(tt,*popt_s),'r-',label='Fit')\n",
    "plt.plot(bin_edges_s[1:],hist_s,'.',label='data')\n",
    "plt.yscale('log')\n",
    "plt.xscale('log')\n",
    "plt.title('Hist of lengths of sunny periods')\n",
    "plt.xlabel('Discharge')\n",
    "plt.ylabel('Counter')\n",
    "plt.legend()"
   ]
  },
  {
   "cell_type": "markdown",
   "metadata": {},
   "source": [
    "# Conclusion:\n",
    "The sunny periods are between the last strom ending index and the next strom starting value.\n",
    "Its distribution is similar to a powerlaw. So there are some long periods without rain."
   ]
  },
  {
   "cell_type": "markdown",
   "metadata": {},
   "source": [
    "## Excercise 7\n",
    "\n",
    "What is the maximum of water discharge in an arbitrarily chosen period of one year? Calculate the maximum of water discharge due to rain in a rolling window of 1 year, plot its distribution and fit with an appropriate function."
   ]
  },
  {
   "cell_type": "code",
   "execution_count": 22,
   "metadata": {},
   "outputs": [
    {
     "data": {
      "text/html": [
       "<div>\n",
       "<style scoped>\n",
       "    .dataframe tbody tr th:only-of-type {\n",
       "        vertical-align: middle;\n",
       "    }\n",
       "\n",
       "    .dataframe tbody tr th {\n",
       "        vertical-align: top;\n",
       "    }\n",
       "\n",
       "    .dataframe thead th {\n",
       "        text-align: right;\n",
       "    }\n",
       "</style>\n",
       "<table border=\"1\" class=\"dataframe\">\n",
       "  <thead>\n",
       "    <tr style=\"text-align: right;\">\n",
       "      <th></th>\n",
       "      <th>datetime</th>\n",
       "      <th>Discharge</th>\n",
       "      <th>year</th>\n",
       "      <th>month</th>\n",
       "      <th>day</th>\n",
       "    </tr>\n",
       "  </thead>\n",
       "  <tbody>\n",
       "    <tr>\n",
       "      <th>1</th>\n",
       "      <td>2007-01-01 00:00:00</td>\n",
       "      <td>18.0</td>\n",
       "      <td>2007</td>\n",
       "      <td>1</td>\n",
       "      <td>1</td>\n",
       "    </tr>\n",
       "    <tr>\n",
       "      <th>2</th>\n",
       "      <td>2007-01-01 00:15:00</td>\n",
       "      <td>18.0</td>\n",
       "      <td>2007</td>\n",
       "      <td>1</td>\n",
       "      <td>1</td>\n",
       "    </tr>\n",
       "    <tr>\n",
       "      <th>3</th>\n",
       "      <td>2007-01-01 00:30:00</td>\n",
       "      <td>18.0</td>\n",
       "      <td>2007</td>\n",
       "      <td>1</td>\n",
       "      <td>1</td>\n",
       "    </tr>\n",
       "    <tr>\n",
       "      <th>4</th>\n",
       "      <td>2007-01-01 00:45:00</td>\n",
       "      <td>18.0</td>\n",
       "      <td>2007</td>\n",
       "      <td>1</td>\n",
       "      <td>1</td>\n",
       "    </tr>\n",
       "    <tr>\n",
       "      <th>5</th>\n",
       "      <td>2007-01-01 01:00:00</td>\n",
       "      <td>18.0</td>\n",
       "      <td>2007</td>\n",
       "      <td>1</td>\n",
       "      <td>1</td>\n",
       "    </tr>\n",
       "  </tbody>\n",
       "</table>\n",
       "</div>"
      ],
      "text/plain": [
       "             datetime  Discharge  year  month  day\n",
       "1 2007-01-01 00:00:00       18.0  2007      1    1\n",
       "2 2007-01-01 00:15:00       18.0  2007      1    1\n",
       "3 2007-01-01 00:30:00       18.0  2007      1    1\n",
       "4 2007-01-01 00:45:00       18.0  2007      1    1\n",
       "5 2007-01-01 01:00:00       18.0  2007      1    1"
      ]
     },
     "execution_count": 22,
     "metadata": {},
     "output_type": "execute_result"
    }
   ],
   "source": [
    "data['year'] = data.datetime.apply(lambda x:x.year)\n",
    "data['month'] = data.datetime.apply(lambda x:x.month)\n",
    "data['day'] = data.datetime.apply(lambda x:x.day)\n",
    "\n",
    "data_sub = data[['datetime','Discharge','year','month','day']]\n",
    "data_sub.head()"
   ]
  },
  {
   "cell_type": "code",
   "execution_count": 54,
   "metadata": {},
   "outputs": [
    {
     "name": "stdout",
     "output_type": "stream",
     "text": [
      "A gamma b\n",
      "[ 1.61667558e+03  7.37097194e-01 -3.30035484e+00]\n",
      "[7.38258536e+02 8.90013550e-02 1.16612553e+00]\n"
     ]
    },
    {
     "name": "stderr",
     "output_type": "stream",
     "text": [
      "/opt/conda/lib/python3.7/site-packages/ipykernel_launcher.py:10: RuntimeWarning: overflow encountered in power\n",
      "  # Remove the CWD from sys.path while we load stuff.\n"
     ]
    },
    {
     "data": {
      "text/plain": [
       "<matplotlib.legend.Legend at 0x7f6dd78a6470>"
      ]
     },
     "execution_count": 54,
     "metadata": {},
     "output_type": "execute_result"
    },
    {
     "data": {
      "image/png": "[encoded data removed]",
      "text/plain": [
       "<Figure size 432x288 with 1 Axes>"
      ]
     },
     "metadata": {
      "needs_background": "light"
     },
     "output_type": "display_data"
    }
   ],
   "source": [
    "monthly_max_discharge = list(data_sub.groupby(['year','month'],as_index=False).max().Discharge)\n",
    "\n",
    "hist_mm,bin_edges_mm = np.histogram(monthly_max_discharge,bins=50)\n",
    "\n",
    "\n",
    "def f_exp(x,A,b,c):\n",
    "    return A*np.exp(-b*x)+c\n",
    "\n",
    "def f_powerlaw(x,A,gamma,B):\n",
    "    return A*x**(-gamma) + B\n",
    "\n",
    "p0_my=[240,1.5,1]\n",
    "\n",
    "\n",
    "skip_point = 0\n",
    "tt = np.linspace(min(bin_edges_mm[1:]),max(bin_edges_mm),300)\n",
    "\n",
    "popt_mm,pcov_mm = curve_fit(f_powerlaw,bin_edges_mm[skip_point+1:],hist_mm[skip_point:],p0=p0_my)\n",
    "perr_mm = np.sqrt(np.diag(pcov_mm))\n",
    "print('A gamma b')\n",
    "print(popt_mm)\n",
    "print(perr_mm)\n",
    "plt.plot(tt,f_powerlaw(tt,*popt_mm),'r-',label='Fit')\n",
    "plt.plot(bin_edges_mm[1:],hist_mm,'.',label='data')\n",
    "plt.yscale('log')\n",
    "plt.xscale('log')\n",
    "plt.title('Hist of monthly max values')\n",
    "plt.xlabel('Max Discharge')\n",
    "plt.ylabel('Counter')\n",
    "plt.legend()"
   ]
  },
  {
   "cell_type": "markdown",
   "metadata": {},
   "source": [
    "# Conclusion:\n",
    "\n",
    "If I choose one month for the time window, the distribution is like a powerlaw. But the maximum values have a similar probability, which means in general there is only one big storm per month."
   ]
  },
  {
   "cell_type": "markdown",
   "metadata": {},
   "source": [
    "## Excercise 8\n",
    "\n",
    "How many time does it rain in a month? Calculate and plot the distribution and fit with an appropriate function."
   ]
  },
  {
   "cell_type": "code",
   "execution_count": 68,
   "metadata": {},
   "outputs": [
    {
     "data": {
      "text/html": [
       "<div>\n",
       "<style scoped>\n",
       "    .dataframe tbody tr th:only-of-type {\n",
       "        vertical-align: middle;\n",
       "    }\n",
       "\n",
       "    .dataframe tbody tr th {\n",
       "        vertical-align: top;\n",
       "    }\n",
       "\n",
       "    .dataframe thead th {\n",
       "        text-align: right;\n",
       "    }\n",
       "</style>\n",
       "<table border=\"1\" class=\"dataframe\">\n",
       "  <thead>\n",
       "    <tr style=\"text-align: right;\">\n",
       "      <th></th>\n",
       "      <th>Discharge</th>\n",
       "      <th>year</th>\n",
       "      <th>month</th>\n",
       "      <th>day</th>\n",
       "      <th>datetime</th>\n",
       "    </tr>\n",
       "    <tr>\n",
       "      <th>datetime</th>\n",
       "      <th></th>\n",
       "      <th></th>\n",
       "      <th></th>\n",
       "      <th></th>\n",
       "      <th></th>\n",
       "    </tr>\n",
       "  </thead>\n",
       "  <tbody>\n",
       "    <tr>\n",
       "      <th>2012-01-01 00:00:00</th>\n",
       "      <td>1.0</td>\n",
       "      <td>1.0</td>\n",
       "      <td>1.0</td>\n",
       "      <td>1.0</td>\n",
       "      <td>2012-01-01 00:00:00</td>\n",
       "    </tr>\n",
       "    <tr>\n",
       "      <th>2012-01-01 00:15:00</th>\n",
       "      <td>2.0</td>\n",
       "      <td>2.0</td>\n",
       "      <td>2.0</td>\n",
       "      <td>2.0</td>\n",
       "      <td>2012-01-01 00:15:00</td>\n",
       "    </tr>\n",
       "    <tr>\n",
       "      <th>2012-01-01 00:30:00</th>\n",
       "      <td>3.0</td>\n",
       "      <td>3.0</td>\n",
       "      <td>3.0</td>\n",
       "      <td>3.0</td>\n",
       "      <td>2012-01-01 00:30:00</td>\n",
       "    </tr>\n",
       "    <tr>\n",
       "      <th>2012-01-01 00:45:00</th>\n",
       "      <td>4.0</td>\n",
       "      <td>4.0</td>\n",
       "      <td>4.0</td>\n",
       "      <td>4.0</td>\n",
       "      <td>2012-01-01 00:45:00</td>\n",
       "    </tr>\n",
       "    <tr>\n",
       "      <th>2012-01-01 01:00:00</th>\n",
       "      <td>5.0</td>\n",
       "      <td>5.0</td>\n",
       "      <td>5.0</td>\n",
       "      <td>5.0</td>\n",
       "      <td>2012-01-01 01:00:00</td>\n",
       "    </tr>\n",
       "    <tr>\n",
       "      <th>...</th>\n",
       "      <td>...</td>\n",
       "      <td>...</td>\n",
       "      <td>...</td>\n",
       "      <td>...</td>\n",
       "      <td>...</td>\n",
       "    </tr>\n",
       "    <tr>\n",
       "      <th>2012-12-31 22:45:00</th>\n",
       "      <td>2880.0</td>\n",
       "      <td>2880.0</td>\n",
       "      <td>2880.0</td>\n",
       "      <td>2880.0</td>\n",
       "      <td>2012-12-31 22:45:00</td>\n",
       "    </tr>\n",
       "    <tr>\n",
       "      <th>2012-12-31 23:00:00</th>\n",
       "      <td>2880.0</td>\n",
       "      <td>2880.0</td>\n",
       "      <td>2880.0</td>\n",
       "      <td>2880.0</td>\n",
       "      <td>2012-12-31 23:00:00</td>\n",
       "    </tr>\n",
       "    <tr>\n",
       "      <th>2012-12-31 23:15:00</th>\n",
       "      <td>2880.0</td>\n",
       "      <td>2880.0</td>\n",
       "      <td>2880.0</td>\n",
       "      <td>2880.0</td>\n",
       "      <td>2012-12-31 23:15:00</td>\n",
       "    </tr>\n",
       "    <tr>\n",
       "      <th>2012-12-31 23:30:00</th>\n",
       "      <td>2880.0</td>\n",
       "      <td>2880.0</td>\n",
       "      <td>2880.0</td>\n",
       "      <td>2880.0</td>\n",
       "      <td>2012-12-31 23:30:00</td>\n",
       "    </tr>\n",
       "    <tr>\n",
       "      <th>2012-12-31 23:45:00</th>\n",
       "      <td>2880.0</td>\n",
       "      <td>2880.0</td>\n",
       "      <td>2880.0</td>\n",
       "      <td>2880.0</td>\n",
       "      <td>2012-12-31 23:45:00</td>\n",
       "    </tr>\n",
       "  </tbody>\n",
       "</table>\n",
       "<p>34597 rows × 5 columns</p>\n",
       "</div>"
      ],
      "text/plain": [
       "                     Discharge    year   month     day            datetime\n",
       "datetime                                                                  \n",
       "2012-01-01 00:00:00        1.0     1.0     1.0     1.0 2012-01-01 00:00:00\n",
       "2012-01-01 00:15:00        2.0     2.0     2.0     2.0 2012-01-01 00:15:00\n",
       "2012-01-01 00:30:00        3.0     3.0     3.0     3.0 2012-01-01 00:30:00\n",
       "2012-01-01 00:45:00        4.0     4.0     4.0     4.0 2012-01-01 00:45:00\n",
       "2012-01-01 01:00:00        5.0     5.0     5.0     5.0 2012-01-01 01:00:00\n",
       "...                        ...     ...     ...     ...                 ...\n",
       "2012-12-31 22:45:00     2880.0  2880.0  2880.0  2880.0 2012-12-31 22:45:00\n",
       "2012-12-31 23:00:00     2880.0  2880.0  2880.0  2880.0 2012-12-31 23:00:00\n",
       "2012-12-31 23:15:00     2880.0  2880.0  2880.0  2880.0 2012-12-31 23:15:00\n",
       "2012-12-31 23:30:00     2880.0  2880.0  2880.0  2880.0 2012-12-31 23:30:00\n",
       "2012-12-31 23:45:00     2880.0  2880.0  2880.0  2880.0 2012-12-31 23:45:00\n",
       "\n",
       "[34597 rows x 5 columns]"
      ]
     },
     "execution_count": 68,
     "metadata": {},
     "output_type": "execute_result"
    }
   ],
   "source": [
    "data_sub_ex7 = data_sub[data_sub.year==2012]\n",
    "# print(max(list(data_sub_ex7[data_sub_ex7['datetime'].apply(lambda x: x.month ==12)].Discharge)))\n",
    "data_sub_ex7 = data_sub_ex7.set_index('datetime')\n",
    "data_sub_ex7 = data_sub_ex7.rolling('30D').count()\n",
    "data_sub_ex7['datetime'] = data_sub_ex7.index\n",
    "\n",
    "data_sub_ex7"
   ]
  },
  {
   "cell_type": "code",
   "execution_count": 72,
   "metadata": {},
   "outputs": [
    {
     "data": {
      "text/plain": [
       "<matplotlib.legend.Legend at 0x7f6dd529edd8>"
      ]
     },
     "execution_count": 72,
     "metadata": {},
     "output_type": "execute_result"
    },
    {
     "data": {
      "image/png": "[encoded data removed]",
      "text/plain": [
       "<Figure size 432x288 with 1 Axes>"
      ]
     },
     "metadata": {
      "needs_background": "light"
     },
     "output_type": "display_data"
    }
   ],
   "source": [
    "monthly_nr_of_rainy_events = list(data_sub.groupby(['year','month'],as_index=False).count().Discharge)\n",
    "hist_mc,bin_edges_mc = np.histogram(monthly_nr_of_rainy_events,bins=30)\n",
    "\n",
    "plt.plot(bin_edges_mc[1:],hist_mc,'.',label='data')\n",
    "# plt.yscale('log')\n",
    "# plt.xscale('log')\n",
    "plt.title('Hist of monthly rainy values')\n",
    "plt.xlabel('Number of rainy events by months')\n",
    "plt.ylabel('Counter')\n",
    "plt.legend()\n",
    "# def f_exp(x,A,b,c):\n",
    "#     return A*np.exp(b*x)+c\n",
    "\n",
    "# # def f_powerlaw(x,A,gamma,B):\n",
    "# #     return A*x**(-gamma) + B\n",
    "\n",
    "# def f_const(x,k):\n",
    "#     return k\n",
    "# p0_my=[1,0.1,0.05]\n",
    "\n",
    "\n",
    "# # skip_point = 0\n",
    "# skip_point_end = 2\n",
    "\n",
    "# tt = np.linspace(min(bin_edges_mc[1:]),max(bin_edges_mc),300)\n",
    "\n",
    "# popt_mc,pcov_mc = curve_fit(f_exp,bin_edges_mc[skip_point+1:skip_point_end],hist_mc[:skip_point_end],p0=p0_my)\n",
    "# perr_mc = np.sqrt(np.diag(pcov_mc))\n",
    "# print('k')\n",
    "# print(popt_mc)\n",
    "# print(perr_mc)\n",
    "# plt.plot(tt,f_exp(tt,*popt_mc),'r-',label='Fit')\n",
    "# # plt.plot(bin_edges_mc[1:],hist_mc,'.',label='data')\n",
    "# # # plt.yscale('log')\n",
    "# # # plt.xscale('log')\n",
    "# # plt.title('Hist of monthly max values')\n",
    "# # plt.xlabel('Discharge')\n",
    "# # plt.ylabel('Counter')\n",
    "# # plt.legend()"
   ]
  },
  {
   "cell_type": "markdown",
   "metadata": {},
   "source": [
    "# Result:\n",
    "It's like a uniform distribution, with 2 outlier value."
   ]
  },
  {
   "cell_type": "markdown",
   "metadata": {},
   "source": [
    "## Excercise 9\n",
    "\n",
    "Find the measuring station you used in the excercises above on the map. Find another measurement station about 100-200 miles from it and download the data. Try to estimate the typical time it takes for weather fronts to travel the distance between the two measuring stations."
   ]
  },
  {
   "cell_type": "code",
   "execution_count": null,
   "metadata": {
    "collapsed": true
   },
   "outputs": [],
   "source": []
  }
 ],
 "metadata": {
  "kernelspec": {
   "display_name": "Python 3",
   "language": "python",
   "name": "python3"
  },
  "language_info": {
   "codemirror_mode": {
    "name": "ipython",
    "version": 3
   },
   "file_extension": ".py",
   "mimetype": "text/x-python",
   "name": "python",
   "nbconvert_exporter": "python",
   "pygments_lexer": "ipython3",
   "version": "3.7.4"
  },
  "varInspector": {
   "cols": {
    "lenName": 16,
    "lenType": 16,
    "lenVar": 40
   },
   "kernels_config": {
    "python": {
     "delete_cmd_postfix": "",
     "delete_cmd_prefix": "del ",
     "library": "var_list.py",
     "varRefreshCmd": "print(var_dic_list())"
    },
    "r": {
     "delete_cmd_postfix": ") ",
     "delete_cmd_prefix": "rm(",
     "library": "var_list.r",
     "varRefreshCmd": "cat(var_dic_list()) "
    }
   },
   "types_to_exclude": [
    "module",
    "function",
    "builtin_function_or_method",
    "instance",
    "_Feature"
   ],
   "window_display": false
  }
 },
 "nbformat": 4,
 "nbformat_minor": 2
}
