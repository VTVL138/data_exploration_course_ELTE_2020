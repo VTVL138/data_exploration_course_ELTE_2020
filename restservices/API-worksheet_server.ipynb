{
 "cells": [
  {
   "cell_type": "markdown",
   "metadata": {},
   "source": [
    "## Create an API and a Client\n",
    "\n",
    "Create an API with 5 endpoints:\n",
    "* */help* returns with the help/usage of the other 4 endpoints\n",
    "* 1 endpoint, where one needs to use arguments (key/value pairs)\n",
    "* 1 endpoint, which returns some data in json format. Either the json should contain a description of what the data is or it should be defined in the /help\n",
    "* 1 endpoint, which adds extra data to the existing dataset\n",
    "* 1 endpoint, which replaces data in the existing dataset\n",
    "\n",
    "The Client should request data from the server and create a table or plot from it.\n",
    "\n",
    "You can use any dataset for this task. \n",
    "E.g. `/home/course/Datasets/owld-datasets/datasets`\n",
    "\n",
    "You have to prepare for errors or for non-valid queries and need to notify the client about the source of the error!\n"
   ]
  },
  {
   "cell_type": "markdown",
   "metadata": {},
   "source": [
    "## How to run this service\n",
    "\n",
    "* Launch a terminal and enter into the directory, that contains this notebook\n",
    "* then type\n",
    "```\n",
    "preview-nb-api.sh API-worksheet.ipynb \n",
    "```\n",
    "* the first line of output will tell you the URL of the API"
   ]
  },
  {
   "cell_type": "code",
   "execution_count": 2,
   "metadata": {},
   "outputs": [],
   "source": [
    "import json\n",
    "import base64\n",
    "import pandas as pd"
   ]
  },
  {
   "cell_type": "code",
   "execution_count": 3,
   "metadata": {},
   "outputs": [],
   "source": [
    "# /api/ push_back to url in client!"
   ]
  },
  {
   "cell_type": "code",
   "execution_count": 4,
   "metadata": {},
   "outputs": [],
   "source": [
    "fname = 'CO2_cc_NOAA_2019.csv'\n",
    "df = pd.read_csv(fname, parse_dates=[1])#, parse_dates=[1])\n",
    "# df = df.dropna()\n",
    "# df =df.rename(columns={'CO2 concentrations (NOAA, 2018)':'CO_2_cc'})\n",
    "df.Year = pd.to_numeric(df.Year)\n",
    "#df['Year'] = df['Year'].dt.strftime('%Y')"
   ]
  },
  {
   "cell_type": "code",
   "execution_count": 5,
   "metadata": {},
   "outputs": [],
   "source": [
    "REQUEST = json.dumps({\n",
    " 'args' : {}\n",
    "})"
   ]
  },
  {
   "cell_type": "code",
   "execution_count": 6,
   "metadata": {},
   "outputs": [],
   "source": [
    "# df.Entity.unique()"
   ]
  },
  {
   "cell_type": "code",
   "execution_count": 7,
   "metadata": {},
   "outputs": [
    {
     "name": "stdout",
     "output_type": "stream",
     "text": [
      "\"<h2>HELP</h2><h4>GET /info</h4>Description: Retrieve either some informatin about the datasetRequires: No parameters requiredExample query: /api/infoExample result: {\\\"name\\\": \\\"Global CO2 emissions - CDIAC and UN Population\\\", \\\"title\\\": \\\"Global CO2 emissions .... }<h4>GET /data</h4>Description: Retrieves either the all the data, or the from and until the given datesRequires: <ul><li> from (int)</li><li> until (int)</li></ul>Returns: <ul><li> year</li><li> metric tons per capita </li></ul>Example query: /api/data?from=1965&until=1988<h4>POST /data/</h4>Description: Adds an extra data point into the dataset for the given 'year' with the given 'value'Requires: <ul><li> year (int) </li><li> value (float)</li></ul>Returns: <ul><li> Status 200: upload successful</li></ul>Example query: /api/data?year=2016&value=3.9152<h4>PUT /data/</h4>Description: Replaces anexisting data point in the dataset for the given 'year' with the given 'value'Requires: <ul><li> year (int) </li><li> value (float)</li></ul>Returns: <ul><li> Status 200: upload successful</li></ul>Example query: /api/data?year=2016&value=3.9152<h4>GET /agg</h4><ul><li>Description: Retrieves an aggregated sum of the CO2 consumption for the last <years>. </li><li>Requires: years </li><li>Returns: a number</li><li>Example query: /api/agg?interval=6</li></ul>\"\n"
     ]
    }
   ],
   "source": [
    "# GET /help\n",
    "help_txt = (\"\"\"\n",
    "<h2>HELP</h2>\n",
    "<h4>GET /info</h4>\n",
    "Description: Retrieve either some information about the dataset\n",
    "Requires: No parameters required\n",
    "Example query: /api/info\n",
    "Example result: {\"name\": \"CO2 concentration in the life of earth.\", \"title\": \"World CO2 concentration .... }\n",
    "\n",
    "<h4>GET /data</h4>\n",
    "Description: Retrieves either the all the data, or the from and until the given dates\n",
    "Requires: \n",
    "<ul>\n",
    "<li> from (int)</li>\n",
    "<li> until (int)</li>\n",
    "</ul>\n",
    "Returns: \n",
    "<ul>\n",
    "<li> Entity </li>\n",
    "<li> year</li>\n",
    "<li> CO_2_cc </li>\n",
    "</ul>\n",
    "Example query: /api/data?from=1942&until=1965\n",
    "\n",
    "<h4>POST /data/</h4>\n",
    "Description: Adds an extra data point into the dataset for the given 'entity', 'year' with the given 'value'\n",
    "Requires: \n",
    "<ul>\n",
    "<li> Entity </li>\n",
    "<li> year (int) </li>\n",
    "<li> value (float)</li>\n",
    "</ul>\n",
    "Returns: \n",
    "<ul>\n",
    "<li> Status 200: upload successful</li>\n",
    "</ul>\n",
    "Example query: /api/data?entity=World&year=2016&value=3.9152\n",
    "\n",
    "<h4>PUT /data/</h4>\n",
    "Description: Replaces anexisting data point in the dataset for the given 'year' with the given 'value'\n",
    "Requires: \n",
    "<ul>\n",
    "<li> Entity </li>\n",
    "<li> year (int) </li>\n",
    "<li> value (float)</li>\n",
    "</ul>\n",
    "Returns: \n",
    "<ul>\n",
    "<li> Status 200: upload successful</li>\n",
    "</ul>\n",
    "Example query: /api/data?entity=World&year=2016&value=3.9152\n",
    "\n",
    "\n",
    "\"\"\")\n",
    "help_txt=help_txt.replace('\\n',\"\")\n",
    "\n",
    "print(json.dumps(help_txt))"
   ]
  },
  {
   "cell_type": "code",
   "execution_count": 7,
   "metadata": {},
   "outputs": [],
   "source": [
    "# GET /another\n",
    "req = json.loads(REQUEST)\n",
    "args = req['args']"
   ]
  },
  {
   "cell_type": "code",
   "execution_count": 24,
   "metadata": {},
   "outputs": [
    {
     "name": "stdout",
     "output_type": "stream",
     "text": [
      "{\"Error\": \"Missing argument. Expecting both 'from' and 'until'\"}\n"
     ]
    }
   ],
   "source": [
    "# GET /api/data\n",
    "req = json.loads(REQUEST)\n",
    "args = req['args']\n",
    "\n",
    "if not \"from\" in args or not \"until\" in args:\n",
    "    response = {\"Error\": \"Missing argument. Expecting both 'from' and 'until'\"}\n",
    "    print (json.dumps(response))\n",
    "else:\n",
    "    date_from = pd.to_numeric(args[\"from\"][0], errors='coerce')\n",
    "    date_until = pd.to_numeric(args[\"until\"][0], errors='coerce')\n",
    "    if date_from >= date_until:\n",
    "        response = {\"queryParams\" : query_params_dict, \"message\" : \"'from' should be an earlier year than until\"}\n",
    "        print (json.dumps (response))\n",
    "    elif (date_from > df.Year.max()) or (date_until<df.Year.min()):\n",
    "        query_params_dict = {\"from\" : args[\"from\"][0], \"until\" : args[\"until\"][0]}\n",
    "        response = {\n",
    "            \"queryParams\" : query_params_dict,\n",
    "            \"message\" : \"valid range for 'from' and 'until' is between {} and {} \".format(df['Year'].min(), \n",
    "                                                                                          df['Year'].max())\n",
    "        }\n",
    "        print (json.dumps (response))\n",
    "    else:\n",
    "        rows = df[(df[\"Year\"] >= date_from) &\n",
    "                             (df[\"Year\"] <= date_until)][[\"Entity\",\"Year\", \"CO_2_cc\"]].copy()\n",
    "        data_dict = [{\"Entity\":entity,\"Year\" : date, \"CO_2_cc\" : numbers} for entity,date, numbers in rows.values ]\n",
    "        query_params_dict = {\"from\" : args[\"from\"][0], \"until\" : args[\"until\"][0]}\n",
    "        response = {\n",
    "            \"queryParams\" : query_params_dict, \n",
    "            \"data\" : data_dict\n",
    "        }\n",
    "        print (json.dumps (response))\n",
    "\n",
    "        \n",
    "# curl -X GET \"https://kooplex-edu.elte.hu/notebook/wfct0p-rere-wfct0p/report/api/data?from=1718&until=1919\""
   ]
  },
  {
   "cell_type": "code",
   "execution_count": 9,
   "metadata": {},
   "outputs": [],
   "source": [
    "## Insert new data with POST"
   ]
  },
  {
   "cell_type": "code",
   "execution_count": 27,
   "metadata": {},
   "outputs": [
    {
     "name": "stdout",
     "output_type": "stream",
     "text": [
      "{\"Error\": \"Missing argument. Expecting both 'date' and 'value'\"}\n"
     ]
    }
   ],
   "source": [
    "# POST /api/data\n",
    "req = json.loads(REQUEST)\n",
    "args = req['args']\n",
    "\n",
    "if not \"date\" in args or not \"value\" in args:\n",
    "    response = { \"Error\" : \"Missing argument. Expecting both 'date' and 'value'\" }\n",
    "    print (json.dumps (response))\n",
    "else:\n",
    "    date = args[\"date\"][0]\n",
    "    value = float(args[\"value\"][0])\n",
    "    if (df.Year==date).sum():\n",
    "        response = {\n",
    "            \"Error\" : \"'date' should not be an existing value\"\n",
    "            }\n",
    "        print (json.dumps (response))\n",
    "    else:\n",
    "        new_row = {'Entity': 'World',\n",
    "                   'Year': pd.to_numeric(date, errors='coerce')\n",
    "                   ,'CO_2_cc': value}\n",
    "        df = df.append(new_row, ignore_index=True)\n",
    "        df.to_csv(fname, index=False, index_label=None)\n",
    "        response = {\n",
    "            \"Message\" : \"upload successful\"\n",
    "        }\n",
    "        print (json.dumps (response))\n",
    "\n",
    "\n",
    "# curl -X POST \"https://kooplex-edu.elte.hu/notebook/wfct0p-rere-wfct0p/report/api/data?date=1718&value=2.324\""
   ]
  },
  {
   "cell_type": "code",
   "execution_count": 11,
   "metadata": {},
   "outputs": [],
   "source": [
    "## Replace existing data with PUT"
   ]
  },
  {
   "cell_type": "code",
   "execution_count": 12,
   "metadata": {},
   "outputs": [
    {
     "name": "stdout",
     "output_type": "stream",
     "text": [
      "{\"Error\": \"Missing argument. Expecting both 'date' and 'value'\"}\n"
     ]
    }
   ],
   "source": [
    "# PUT /api/data\n",
    "req = json.loads(REQUEST)\n",
    "args = req['args']\n",
    "\n",
    "if not \"date\" in args or not \"value\" in args:\n",
    "    response = {\n",
    "    \"Error\" : \"Missing argument. Expecting both 'date' and 'value'\"\n",
    "    }\n",
    "    print (json.dumps (response))\n",
    "else:\n",
    "    date = args[\"date\"][0]\n",
    "    value = float(args[\"value\"][0])\n",
    "    if not (df.Year==date).sum():\n",
    "        response = {\n",
    "            \"Error\" : \"'date' should be an existing one\"\n",
    "            }\n",
    "        print (json.dumps (response))\n",
    "    else:\n",
    "        df.loc[(df.Entity == 'World') & (df.Year == '2016'),'CO_2_cc'] = value\n",
    "#         df.loc[df.index.max() + 1] = ['World',date,value]\n",
    "        df.to_csv(fname, index=False, index_label=None)\n",
    "        response = {\n",
    "            \"Message\" : \"Data has been changed\",\n",
    "            \"Year\": date,\n",
    "            \"New CO_2_cc\": value\n",
    "        }\n",
    "        print (json.dumps (response))"
   ]
  },
  {
   "cell_type": "code",
   "execution_count": 13,
   "metadata": {},
   "outputs": [
    {
     "name": "stdout",
     "output_type": "stream",
     "text": [
      "You seem lost, try /help\n"
     ]
    }
   ],
   "source": [
    "# GET /:nothingfound\n",
    "\n",
    "print (\"You seem lost, try /help\")"
   ]
  },
  {
   "cell_type": "code",
   "execution_count": null,
   "metadata": {},
   "outputs": [],
   "source": []
  },
  {
   "cell_type": "code",
   "execution_count": null,
   "metadata": {},
   "outputs": [],
   "source": []
  },
  {
   "cell_type": "code",
   "execution_count": null,
   "metadata": {},
   "outputs": [],
   "source": []
  },
  {
   "cell_type": "code",
   "execution_count": null,
   "metadata": {},
   "outputs": [],
   "source": []
  },
  {
   "cell_type": "code",
   "execution_count": null,
   "metadata": {},
   "outputs": [],
   "source": []
  },
  {
   "cell_type": "code",
   "execution_count": null,
   "metadata": {},
   "outputs": [],
   "source": []
  },
  {
   "cell_type": "code",
   "execution_count": null,
   "metadata": {},
   "outputs": [],
   "source": []
  },
  {
   "cell_type": "code",
   "execution_count": null,
   "metadata": {},
   "outputs": [],
   "source": []
  },
  {
   "cell_type": "code",
   "execution_count": 14,
   "metadata": {
    "jupyter": {
     "outputs_hidden": true
    }
   },
   "outputs": [],
   "source": [
    "# # GET /help\n",
    "# req = json.loads(REQUEST)\n",
    "# args = req['args']\n",
    "\n",
    "# subhelp = {'Message': 'This is a test API. This endpoint can digest the \"simple\" and \"data\" arguments'}\n",
    "\n",
    "# if 'simple' in args:\n",
    "#     subhelp = {'Message': 'This is a test API and has a simple argument'}\n",
    "#     response = json.dumps(subhelp)\n",
    "# elif 'data' in args:\n",
    "#     N = int(args['data'][0])\n",
    "#     subhelp = [{'Message': 'This is a test API and this endpoint returns data '}, {'data': list(range(N))}]\n",
    "#     #subhelp = [{'Message': 'This is a test API and this endpoint returns data '}, {'data': args['data']}]\n",
    "#     response = json.dumps(subhelp) \n",
    "# else:\n",
    "#     response = json.dumps(subhelp)\n",
    "    \n",
    "# print(response)"
   ]
  },
  {
   "cell_type": "code",
   "execution_count": 15,
   "metadata": {},
   "outputs": [],
   "source": [
    "# # GET /another\n",
    "# req = json.loads(REQUEST)\n",
    "# args = req['args']"
   ]
  },
  {
   "cell_type": "code",
   "execution_count": null,
   "metadata": {},
   "outputs": [],
   "source": []
  },
  {
   "cell_type": "code",
   "execution_count": null,
   "metadata": {},
   "outputs": [],
   "source": []
  }
 ],
 "metadata": {
  "kernelspec": {
   "display_name": "Python 3",
   "language": "python",
   "name": "python3"
  },
  "language_info": {
   "codemirror_mode": {
    "name": "ipython",
    "version": 3
   },
   "file_extension": ".py",
   "mimetype": "text/x-python",
   "name": "python",
   "nbconvert_exporter": "python",
   "pygments_lexer": "ipython3",
   "version": "3.7.3"
  }
 },
 "nbformat": 4,
 "nbformat_minor": 4
}
