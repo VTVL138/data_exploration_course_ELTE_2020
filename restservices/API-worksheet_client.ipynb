{
 "cells": [
  {
   "cell_type": "code",
   "execution_count": 1,
   "metadata": {},
   "outputs": [],
   "source": [
    "# url = 'https://kooplex-edu.elte.hu/notebook/ggqitd-dataexplvisu/report'"
   ]
  },
  {
   "cell_type": "code",
   "execution_count": 6,
   "metadata": {},
   "outputs": [],
   "source": [
    "import requests, os\n",
    "import numpy as np\n",
    "import matplotlib.pyplot as plt"
   ]
  },
  {
   "cell_type": "code",
   "execution_count": 7,
   "metadata": {},
   "outputs": [],
   "source": [
    "def get_query(endpoint=\"\", fields={}):\n",
    "    api_url = 'https://kooplex-edu.elte.hu/notebook/ggqitd-dataexplvisu/report/api/'\n",
    "    if fields:\n",
    "        query_str = \"?\" + \"&\".join([ \"{}={}\".format(k, fields[k]) for k in fields.keys()])\n",
    "        \n",
    "    kw = {\n",
    "    'url': os.path.join(api_url, \"%s\"%(endpoint) + query_str),\n",
    "    #'auth': (user, pwd),\n",
    "    'headers': {\"content-type\": \"application/x-www-form-urlencoded\"},\n",
    "    }\n",
    "\n",
    "    return requests.get(**kw)\n",
    "\n",
    "def post_query(endpoint=\"\", fields={}):\n",
    "    api_url = 'https://kooplex-edu.elte.hu/notebook/ggqitd-dataexplvisu/report/api/'\n",
    "    if fields:\n",
    "        query_str = \"?\" + \"&\".join([ \"{}={}\".format(k, fields[k]) for k in fields.keys()])\n",
    "        \n",
    "    kw = {\n",
    "    'url': os.path.join(api_url, \"%s\"%(endpoint) + query_str),\n",
    "    #'auth': (user, pwd),\n",
    "    'headers': {\"content-type\": \"application/x-www-form-urlencoded\"},\n",
    "    }\n",
    "\n",
    "    return requests.post(**kw)"
   ]
  },
  {
   "cell_type": "code",
   "execution_count": 8,
   "metadata": {},
   "outputs": [],
   "source": [
    "endpoint = \"data\"\n",
    "fields = {\"from\":1920, \"until\":1930}\n",
    "res = get_query(endpoint, fields)"
   ]
  },
  {
   "cell_type": "code",
   "execution_count": 9,
   "metadata": {},
   "outputs": [
    {
     "data": {
      "text/plain": [
       "<Response [200]>"
      ]
     },
     "execution_count": 9,
     "metadata": {},
     "output_type": "execute_result"
    }
   ],
   "source": [
    "res"
   ]
  },
  {
   "cell_type": "code",
   "execution_count": 10,
   "metadata": {},
   "outputs": [
    {
     "data": {
      "text/plain": [
       "{'queryParams': {'from': '1920', 'until': '1930'},\n",
       " 'data': [{'Entity': 'World', 'Year': 1920, 'CO_2_cc': 301.88},\n",
       "  {'Entity': 'World', 'Year': 1923, 'CO_2_cc': 304.69},\n",
       "  {'Entity': 'World', 'Year': 1925, 'CO_2_cc': 304.84},\n",
       "  {'Entity': 'World', 'Year': 1928, 'CO_2_cc': 306.84},\n",
       "  {'Entity': 'World', 'Year': 1929, 'CO_2_cc': 305.62}]}"
      ]
     },
     "execution_count": 10,
     "metadata": {},
     "output_type": "execute_result"
    }
   ],
   "source": [
    "res.json()"
   ]
  },
  {
   "cell_type": "code",
   "execution_count": 11,
   "metadata": {},
   "outputs": [
    {
     "data": {
      "text/plain": [
       "[{'Entity': 'World', 'Year': 1920, 'CO_2_cc': 301.88},\n",
       " {'Entity': 'World', 'Year': 1923, 'CO_2_cc': 304.69},\n",
       " {'Entity': 'World', 'Year': 1925, 'CO_2_cc': 304.84},\n",
       " {'Entity': 'World', 'Year': 1928, 'CO_2_cc': 306.84},\n",
       " {'Entity': 'World', 'Year': 1929, 'CO_2_cc': 305.62}]"
      ]
     },
     "execution_count": 11,
     "metadata": {},
     "output_type": "execute_result"
    }
   ],
   "source": [
    "res.json()['data']"
   ]
  },
  {
   "cell_type": "code",
   "execution_count": 12,
   "metadata": {},
   "outputs": [
    {
     "name": "stdout",
     "output_type": "stream",
     "text": [
      "<Response [200]>\n",
      "{\"Message\": \"upload successful\"}\n",
      "\n"
     ]
    }
   ],
   "source": [
    "endpoint = \"data\"\n",
    "fields = {\"date\":2016, \"value\":2.5}\n",
    "res = post_query(endpoint, fields)\n",
    "print(res)\n",
    "print(res.text)"
   ]
  },
  {
   "cell_type": "code",
   "execution_count": 13,
   "metadata": {},
   "outputs": [
    {
     "name": "stdout",
     "output_type": "stream",
     "text": [
      "[{'Entity': 'World', 'Year': 2014, 'CO_2_cc': 398.65}, {'Entity': 'World', 'Year': 2015, 'CO_2_cc': 400.83}, {'Entity': 'World', 'Year': 2016, 'CO_2_cc': 404.24}, {'Entity': 'World', 'Year': 2017, 'CO_2_cc': 406.55}, {'Entity': 'World', 'Year': 2016, 'CO_2_cc': 2.5}, {'Entity': 'World', 'Year': 2016, 'CO_2_cc': 2.5}, {'Entity': 'World', 'Year': 2016, 'CO_2_cc': 2.5}]\n"
     ]
    }
   ],
   "source": [
    "endpoint = \"data\"\n",
    "fields = {\"from\":2014, \"until\":2017}\n",
    "res = get_query(endpoint, fields)\n",
    "print(res.json()['data'])"
   ]
  },
  {
   "cell_type": "code",
   "execution_count": 24,
   "metadata": {},
   "outputs": [
    {
     "name": "stdout",
     "output_type": "stream",
     "text": [
      "[{'Entity': 'World', 'Year': 1900, 'CO_2_cc': 294.22}, {'Entity': 'World', 'Year': 1902, 'CO_2_cc': 295.61}, {'Entity': 'World', 'Year': 1904, 'CO_2_cc': 295.99}, {'Entity': 'World', 'Year': 1905, 'CO_2_cc': 299.02}, {'Entity': 'World', 'Year': 1906, 'CO_2_cc': 298.48}, {'Entity': 'World', 'Year': 1909, 'CO_2_cc': 301.5}, {'Entity': 'World', 'Year': 1910, 'CO_2_cc': 297.87}, {'Entity': 'World', 'Year': 1911, 'CO_2_cc': 298.36}, {'Entity': 'World', 'Year': 1913, 'CO_2_cc': 301.3}, {'Entity': 'World', 'Year': 1914, 'CO_2_cc': 300.7}, {'Entity': 'World', 'Year': 1916, 'CO_2_cc': 301.92}, {'Entity': 'World', 'Year': 1918, 'CO_2_cc': 303.85}, {'Entity': 'World', 'Year': 1919, 'CO_2_cc': 304.61}, {'Entity': 'World', 'Year': 1920, 'CO_2_cc': 301.88}, {'Entity': 'World', 'Year': 1923, 'CO_2_cc': 304.69}, {'Entity': 'World', 'Year': 1925, 'CO_2_cc': 304.84}, {'Entity': 'World', 'Year': 1928, 'CO_2_cc': 306.84}, {'Entity': 'World', 'Year': 1929, 'CO_2_cc': 305.62}, {'Entity': 'World', 'Year': 1931, 'CO_2_cc': 305.74}, {'Entity': 'World', 'Year': 1932, 'CO_2_cc': 308.26}, {'Entity': 'World', 'Year': 1933, 'CO_2_cc': 307.11}, {'Entity': 'World', 'Year': 1934, 'CO_2_cc': 308.35}, {'Entity': 'World', 'Year': 1935, 'CO_2_cc': 306.32}, {'Entity': 'World', 'Year': 1936, 'CO_2_cc': 308.3}, {'Entity': 'World', 'Year': 1937, 'CO_2_cc': 307.41}, {'Entity': 'World', 'Year': 1938, 'CO_2_cc': 311.07}, {'Entity': 'World', 'Year': 1939, 'CO_2_cc': 310.83}, {'Entity': 'World', 'Year': 1940, 'CO_2_cc': 310.38}, {'Entity': 'World', 'Year': 1941, 'CO_2_cc': 309.77}, {'Entity': 'World', 'Year': 1942, 'CO_2_cc': 312.37}, {'Entity': 'World', 'Year': 1944, 'CO_2_cc': 312.36}, {'Entity': 'World', 'Year': 1945, 'CO_2_cc': 310.94}, {'Entity': 'World', 'Year': 1946, 'CO_2_cc': 312.26}, {'Entity': 'World', 'Year': 1947, 'CO_2_cc': 311.61}, {'Entity': 'World', 'Year': 1948, 'CO_2_cc': 311.57}, {'Entity': 'World', 'Year': 1949, 'CO_2_cc': 309.69}, {'Entity': 'World', 'Year': 1950, 'CO_2_cc': 312.83}, {'Entity': 'World', 'Year': 1952, 'CO_2_cc': 312.18}, {'Entity': 'World', 'Year': 1954, 'CO_2_cc': 312.73}, {'Entity': 'World', 'Year': 1955, 'CO_2_cc': 314.71}, {'Entity': 'World', 'Year': 1956, 'CO_2_cc': 315.34}, {'Entity': 'World', 'Year': 1957, 'CO_2_cc': 315.34}, {'Entity': 'World', 'Year': 1958, 'CO_2_cc': 315.34}, {'Entity': 'World', 'Year': 1959, 'CO_2_cc': 315.97}, {'Entity': 'World', 'Year': 1960, 'CO_2_cc': 316.91}, {'Entity': 'World', 'Year': 1961, 'CO_2_cc': 317.64}, {'Entity': 'World', 'Year': 1962, 'CO_2_cc': 318.45}, {'Entity': 'World', 'Year': 1963, 'CO_2_cc': 318.99}, {'Entity': 'World', 'Year': 1964, 'CO_2_cc': 319.62}, {'Entity': 'World', 'Year': 1965, 'CO_2_cc': 320.04}, {'Entity': 'World', 'Year': 1966, 'CO_2_cc': 321.38}, {'Entity': 'World', 'Year': 1967, 'CO_2_cc': 322.16}, {'Entity': 'World', 'Year': 1968, 'CO_2_cc': 323.04}, {'Entity': 'World', 'Year': 1969, 'CO_2_cc': 324.62}, {'Entity': 'World', 'Year': 1970, 'CO_2_cc': 325.68}, {'Entity': 'World', 'Year': 1971, 'CO_2_cc': 326.32}, {'Entity': 'World', 'Year': 1972, 'CO_2_cc': 327.45}, {'Entity': 'World', 'Year': 1973, 'CO_2_cc': 329.68}, {'Entity': 'World', 'Year': 1974, 'CO_2_cc': 330.18}, {'Entity': 'World', 'Year': 1975, 'CO_2_cc': 331.11}, {'Entity': 'World', 'Year': 1976, 'CO_2_cc': 332.04}, {'Entity': 'World', 'Year': 1977, 'CO_2_cc': 333.83}, {'Entity': 'World', 'Year': 1978, 'CO_2_cc': 335.4}, {'Entity': 'World', 'Year': 1979, 'CO_2_cc': 336.84}, {'Entity': 'World', 'Year': 1980, 'CO_2_cc': 338.75}, {'Entity': 'World', 'Year': 1981, 'CO_2_cc': 340.11}, {'Entity': 'World', 'Year': 1982, 'CO_2_cc': 341.45}, {'Entity': 'World', 'Year': 1983, 'CO_2_cc': 343.05}, {'Entity': 'World', 'Year': 1984, 'CO_2_cc': 344.65}, {'Entity': 'World', 'Year': 1985, 'CO_2_cc': 346.12}, {'Entity': 'World', 'Year': 1986, 'CO_2_cc': 347.42}, {'Entity': 'World', 'Year': 1987, 'CO_2_cc': 349.19}, {'Entity': 'World', 'Year': 1988, 'CO_2_cc': 351.57}, {'Entity': 'World', 'Year': 1989, 'CO_2_cc': 353.12}, {'Entity': 'World', 'Year': 1990, 'CO_2_cc': 354.39}, {'Entity': 'World', 'Year': 1991, 'CO_2_cc': 355.61}, {'Entity': 'World', 'Year': 1992, 'CO_2_cc': 356.45}, {'Entity': 'World', 'Year': 1993, 'CO_2_cc': 357.1}, {'Entity': 'World', 'Year': 1994, 'CO_2_cc': 358.83}, {'Entity': 'World', 'Year': 1995, 'CO_2_cc': 360.82}, {'Entity': 'World', 'Year': 1996, 'CO_2_cc': 362.61}, {'Entity': 'World', 'Year': 1997, 'CO_2_cc': 363.73}, {'Entity': 'World', 'Year': 1998, 'CO_2_cc': 366.7}, {'Entity': 'World', 'Year': 1999, 'CO_2_cc': 368.38}, {'Entity': 'World', 'Year': 2000, 'CO_2_cc': 369.55}, {'Entity': 'World', 'Year': 2001, 'CO_2_cc': 371.14}, {'Entity': 'World', 'Year': 2002, 'CO_2_cc': 373.28}, {'Entity': 'World', 'Year': 2003, 'CO_2_cc': 375.8}, {'Entity': 'World', 'Year': 2004, 'CO_2_cc': 377.52}, {'Entity': 'World', 'Year': 2005, 'CO_2_cc': 379.8}, {'Entity': 'World', 'Year': 2006, 'CO_2_cc': 381.9}, {'Entity': 'World', 'Year': 2007, 'CO_2_cc': 383.79}, {'Entity': 'World', 'Year': 2008, 'CO_2_cc': 385.6}, {'Entity': 'World', 'Year': 2009, 'CO_2_cc': 387.43}, {'Entity': 'World', 'Year': 2010, 'CO_2_cc': 389.9}]\n"
     ]
    }
   ],
   "source": [
    "endpoint = \"data\"\n",
    "fields = {\"from\":1900, \"until\":2010}\n",
    "res = get_query(endpoint, fields)\n",
    "print(res.json()['data'])"
   ]
  },
  {
   "cell_type": "code",
   "execution_count": 25,
   "metadata": {},
   "outputs": [],
   "source": [
    "year,co2_cc = [],[]\n",
    "\n",
    "for row in res.json()['data']:\n",
    "    year.append(row['Year'])\n",
    "    co2_cc.append(row['CO_2_cc'])"
   ]
  },
  {
   "cell_type": "code",
   "execution_count": 26,
   "metadata": {},
   "outputs": [
    {
     "data": {
      "text/plain": [
       "<matplotlib.legend.Legend at 0x7f2907f80d68>"
      ]
     },
     "execution_count": 26,
     "metadata": {},
     "output_type": "execute_result"
    },
    {
     "data": {
      "image/png": "[encoded data removed]",
      "text/plain": [
       "<Figure size 576x360 with 1 Axes>"
      ]
     },
     "metadata": {
      "needs_background": "light"
     },
     "output_type": "display_data"
    }
   ],
   "source": [
    "plt.figure(figsize=(8,5))\n",
    "plt.plot(year,co2_cc,'.',ms=4,label='Data')\n",
    "plt.title('Co2 concentration\\'s change')\n",
    "plt.xlabel('Year')\n",
    "plt.ylabel('CO2 cc')\n",
    "plt.legend()"
   ]
  },
  {
   "cell_type": "code",
   "execution_count": null,
   "metadata": {},
   "outputs": [],
   "source": []
  },
  {
   "cell_type": "code",
   "execution_count": null,
   "metadata": {},
   "outputs": [],
   "source": []
  }
 ],
 "metadata": {
  "kernelspec": {
   "display_name": "Python 3",
   "language": "python",
   "name": "python3"
  },
  "language_info": {
   "codemirror_mode": {
    "name": "ipython",
    "version": 3
   },
   "file_extension": ".py",
   "mimetype": "text/x-python",
   "name": "python",
   "nbconvert_exporter": "python",
   "pygments_lexer": "ipython3",
   "version": "3.7.3"
  }
 },
 "nbformat": 4,
 "nbformat_minor": 4
}
